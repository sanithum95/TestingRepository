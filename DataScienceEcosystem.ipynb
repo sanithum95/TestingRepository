{
  "metadata": {
    "kernelspec": {
      "name": "python",
      "display_name": "Python (Pyodide)",
      "language": "python"
    },
    "language_info": {
      "codemirror_mode": {
        "name": "python",
        "version": 3
      },
      "file_extension": ".py",
      "mimetype": "text/x-python",
      "name": "python",
      "nbconvert_exporter": "python",
      "pygments_lexer": "ipython3",
      "version": "3.8"
    }
  },
  "nbformat_minor": 5,
  "nbformat": 4,
  "cells": [
    {
      "id": "6d11472e-fc02-4a43-8770-e0094cd5e16f",
      "cell_type": "markdown",
      "source": "",
      "metadata": {}
    },
    {
      "id": "6fed989f-b705-4428-b0e4-902994e6e055",
      "cell_type": "markdown",
      "source": "# DataScienceEcosystem",
      "metadata": {}
    },
    {
      "id": "c30aa1a3-442e-4210-831f-2dda4856171f",
      "cell_type": "markdown",
      "source": "In this notebook, Data Science Tools and Ecosystem are summarized.",
      "metadata": {}
    },
    {
      "id": "95a2510e-c120-4e6c-a1ff-1e72652d45a8",
      "cell_type": "markdown",
      "source": "**Objectives:**\n1. List popular languages for Data Science.\n2. List commonly used libraries for Data Science.\n3. List some Data Science tools.",
      "metadata": {}
    },
    {
      "id": "92a2f046-d077-4300-903d-231a8df6db7b",
      "cell_type": "markdown",
      "source": "Some of the popular languages that Data Scientists use are:\n1. Python\n2. R\n3. Julia",
      "metadata": {}
    },
    {
      "id": "568c3c47-87ca-488b-aa41-aa5512ba65d1",
      "cell_type": "markdown",
      "source": "Some of the commonly used libraries used by Data Scientists include:\n1. Pandas\n2. NumPy\n3. Matplotlib",
      "metadata": {}
    },
    {
      "id": "9e3a6f78-de78-4ab8-9eaf-2494f0cb0bb6",
      "cell_type": "markdown",
      "source": "Data Science Tools\n|--------------------|\n|MySQL|\n|cassandra|\n|Hadoop|",
      "metadata": {}
    },
    {
      "id": "20d20c17-e648-423c-ac9d-40faa9744ac2",
      "cell_type": "markdown",
      "source": "### Below are a few examples of evaluating arithmetic expressions in Python.\n",
      "metadata": {}
    },
    {
      "id": "a64f86e1-c593-4ee1-ba67-15a2f7249b83",
      "cell_type": "code",
      "source": "#This a simple arithmetic expression to multiply then add integers.\n(3*4)+5\n",
      "metadata": {
        "trusted": true
      },
      "outputs": [
        {
          "execution_count": 7,
          "output_type": "execute_result",
          "data": {
            "text/plain": "17"
          },
          "metadata": {}
        }
      ],
      "execution_count": 7
    },
    {
      "id": "63ea0c5a-036c-41d5-8da8-2cf63294ef65",
      "cell_type": "code",
      "source": "#This will convert 200 minutes to hours by dividing by 60.\n200/60 ",
      "metadata": {
        "trusted": true
      },
      "outputs": [
        {
          "execution_count": 12,
          "output_type": "execute_result",
          "data": {
            "text/plain": "3.3333333333333335"
          },
          "metadata": {}
        }
      ],
      "execution_count": 12
    },
    {
      "id": "5d90a4dd-b3b7-47d7-9e72-60564f7e1636",
      "cell_type": "markdown",
      "source": "# Author: Sanithu",
      "metadata": {}
    },
    {
      "id": "18da3bf0-6157-4fb9-a350-fdc79d6605d0",
      "cell_type": "code",
      "source": "",
      "metadata": {
        "trusted": true
      },
      "outputs": [],
      "execution_count": null
    }
  ]
}